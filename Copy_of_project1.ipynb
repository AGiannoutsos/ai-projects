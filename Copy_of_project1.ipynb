{
  "nbformat": 4,
  "nbformat_minor": 0,
  "metadata": {
    "colab": {
      "name": "Copy of project1.ipynb",
      "provenance": [],
      "private_outputs": true,
      "collapsed_sections": [
        "Zy8mhghzxDJP"
      ],
      "include_colab_link": true
    },
    "kernelspec": {
      "name": "python3",
      "display_name": "Python 3"
    }
  },
  "cells": [
    {
      "cell_type": "markdown",
      "metadata": {
        "id": "view-in-github",
        "colab_type": "text"
      },
      "source": [
        "<a href=\"https://colab.research.google.com/github/AGiannoutsos/ai-projects/blob/master/Copy_of_project1.ipynb\" target=\"_parent\"><img src=\"https://colab.research.google.com/assets/colab-badge.svg\" alt=\"Open In Colab\"/></a>"
      ]
    },
    {
      "cell_type": "code",
      "metadata": {
        "id": "V2bV3do7tcDy",
        "colab_type": "code",
        "colab": {}
      },
      "source": [
        "from google.colab import drive\n",
        "drive.mount('/content/drive')"
      ],
      "execution_count": 0,
      "outputs": []
    },
    {
      "cell_type": "markdown",
      "metadata": {
        "id": "tdnpvgjpTibg",
        "colab_type": "text"
      },
      "source": [
        "#Ερώτημα 1"
      ]
    },
    {
      "cell_type": "markdown",
      "metadata": {
        "id": "vkAIGL2ETxRS",
        "colab_type": "text"
      },
      "source": [
        "##Δημιουργία train.csv"
      ]
    },
    {
      "cell_type": "code",
      "metadata": {
        "id": "1dcesfLrvYTS",
        "colab_type": "code",
        "colab": {}
      },
      "source": [
        "import os\n",
        "import pandas as pd\n",
        "import numpy as np\n",
        "import matplotlib.pyplot as plt\n",
        "from functools import reduce\n",
        "\n",
        "\n",
        "data_path = \"drive/My Drive/data\"\n",
        "\n",
        "# find the months of data and sort them\n",
        "months = [month for month in os.listdir(data_path)]\n",
        "all_months = [\"january\", \"febrouary\", \"march\", \"april\", \"may\", \"june\", \"july\", \"august\", \"september\", \"october\", \"november\", \"december\"]\n",
        "months.sort(key=lambda x: all_months.index(x))\n",
        "\n",
        "\n",
        "# set the columns and the data types\n",
        "train_data_types = {\"id\": int, \"zipcode\": object, \"transit\": object, \"bedrooms\": object,\n",
        "                    \"beds\": object, \"review_scores_rating\": object, \"number_of_reviews\": int,\n",
        "                    \"neighbourhood\": object, \"name\": object, \"latitude\": float, \"longitude\": float,\n",
        "                    \"last_review\": object, \"instant_bookable\": object, \"host_since\": object,\n",
        "                    \"host_response_rate\": object, \"host_identity_verified\": object,\n",
        "                    \"host_has_profile_pic\": object, \"first_review\": object, \"description\": object,\n",
        "                    \"city\": object, \"cancellation_policy\": object, \"bed_type\": object,\n",
        "                    \"bathrooms\": float, \"accommodates\": int, \"amenities\": object, \"room_type\": object,\n",
        "                    \"property_type\": object, \"price\": object, \"availability_365\": int, \"minimum_nights\": int}\n",
        "\n",
        "train_data_columns = list(train_data_types.keys())\n",
        "train_data_columns_variable = [\"price\", \"number_of_reviews\", \"last_review\"]\n",
        "train_data_columns_not_variable = list(set(train_data_columns) - set(train_data_columns_variable) - set([\"id\"]))\n",
        "\n",
        "# open every listings file from each month\n",
        "csv_files = []\n",
        "for month in months:\n",
        "    print(data_path+\"/\"+month+\"/listings.csv\")\n",
        "    csv_file_path = data_path+\"/\"+month+\"/listings.csv\"\n",
        "    csv_file = pd.read_csv(csv_file_path, usecols=train_data_columns, dtype=train_data_types)\n",
        "    csv_file.rename(columns={train_data_column : train_data_column+\"_\"+month for train_data_column in train_data_columns[1:]}, inplace=True)\n",
        "    csv_file = pd.concat([csv_file, pd.DataFrame(columns=[\"on_\"+month])])\n",
        "    csv_file.loc[:,\"on_\"+month] = 1\n",
        "    csv_files.append(csv_file)\n",
        "\n",
        "\n",
        "# merge all the csv files\n",
        "csv_train = reduce(lambda left,right : pd.merge(left, right, on=\"id\",  how=\"outer\"), csv_files)\n",
        "\n",
        "\n",
        "# delete duplicate columns and keep the data that matters and drop data\n",
        "csv_train = pd.concat([csv_train, pd.DataFrame(columns=train_data_columns_not_variable)])\n",
        "\n",
        "for train_data_column in train_data_columns_not_variable:\n",
        "    columns = [train_data_column+\"_\"+month for month in months]\n",
        "    columns.append(train_data_column)\n",
        "    csv_train.loc[:, columns] = csv_train.loc[:, columns].ffill(axis=1)\n",
        "    for month in months:\n",
        "        del csv_train[train_data_column+\"_\"+month]\n",
        "\n",
        "# transform price from str to float\n",
        "for month in months:\n",
        "    csv_train[\"price_\"+month] = csv_train[\"price_\"+month].astype(str).apply(lambda x: float(x.replace(\"$\",\"\").replace(\",\",\"\")) )\n",
        "csv_train[\"average_price\"] = csv_train[[\"price_\"+month for month in months]].mean(axis=1)\n",
        "\n",
        "# merging reviews to last review\n",
        "columns = [\"last_review_\"+month for month in months]\n",
        "csv_train[\"last_review\"] = csv_train[columns].astype(str).max(axis=1)\n",
        "csv_train[\"number_of_reviews\"] = csv_train[\"number_of_reviews_\"+months[-1]]\n",
        "for month in months:\n",
        "    del csv_train[\"last_review_\"+month]\n",
        "    del csv_train[\"number_of_reviews_\"+month]\n",
        "\n",
        "# droping rows that are missing essential data\n",
        "csv_train = csv_train[csv_train.name.notna() & csv_train.description.notna() & csv_train.accommodates.notna() & csv_train.longitude.notna() & csv_train.latitude.notna() & csv_train.room_type.notna() & csv_train.city.notna()].reset_index(drop=True)\n",
        "\n",
        "# saving train_csv\n",
        "# csv_train.to_csv(\"csv_train.csv\")\n",
        "\n",
        "# plt style\n",
        "plt.style.use('seaborn')\n",
        "color_palet = plt.cm.BuPu\n",
        "def colors(variables):\n",
        "    return color_palet(np.linspace(0, 1, variables))\n",
        "\n",
        "# print head\n",
        "train = csv_train\n",
        "csv_train.head(3)"
      ],
      "execution_count": 0,
      "outputs": []
    },
    {
      "cell_type": "markdown",
      "metadata": {
        "id": "xBNcJnj3sf5z",
        "colab_type": "text"
      },
      "source": [
        "##Ερώτημα 1.1"
      ]
    },
    {
      "cell_type": "code",
      "metadata": {
        "id": "C87Y96QeDU9W",
        "colab_type": "code",
        "colab": {}
      },
      "source": [
        "# 1.1\n",
        "room_types = train[\"room_type\"].value_counts()\n",
        "\n",
        "# ploting\n",
        "colors = color_palet(np.linspace(0, 1, len(room_types)))\n",
        "room_types.plot(kind='bar', stacked=True, figsize=(15, 10), color=colors)\n",
        "plt.ylabel(\"# of airbnbs\")"
      ],
      "execution_count": 0,
      "outputs": []
    },
    {
      "cell_type": "markdown",
      "metadata": {
        "id": "_EgghKxbseID",
        "colab_type": "text"
      },
      "source": [
        "##Ερώτημα 1.2"
      ]
    },
    {
      "cell_type": "code",
      "metadata": {
        "id": "r2iynMqkRc2v",
        "colab_type": "code",
        "colab": {}
      },
      "source": [
        "# 1.2\n",
        "average_prices = [train[\"price_\"+month].mean() for month in months]\n",
        "\n",
        "# ploting\n",
        "colors = color_palet(np.linspace(0, 1, len(months)))\n",
        "plt.bar(months, average_prices, color=colors)\n",
        "plt.ylabel(\"price\")"
      ],
      "execution_count": 0,
      "outputs": []
    },
    {
      "cell_type": "markdown",
      "metadata": {
        "id": "OxRA8dU4sb9d",
        "colab_type": "text"
      },
      "source": [
        "##Ερώτημα 1.3"
      ]
    },
    {
      "cell_type": "code",
      "metadata": {
        "id": "v6ZZb8TDAUSa",
        "colab_type": "code",
        "colab": {}
      },
      "source": [
        "# 1.3\n",
        "\n",
        "neighbourhood_group = train[[\"number_of_reviews\", \"neighbourhood\"]].groupby(\"neighbourhood\").sum()\n",
        "neighbourhood_group.sort_values(by=\"number_of_reviews\", ascending=False).head(5)"
      ],
      "execution_count": 0,
      "outputs": []
    },
    {
      "cell_type": "markdown",
      "metadata": {
        "id": "4c11EgaasZpz",
        "colab_type": "text"
      },
      "source": [
        "##Ερώτημα 1.4"
      ]
    },
    {
      "cell_type": "code",
      "metadata": {
        "id": "UxkjQVN61nlB",
        "colab_type": "code",
        "colab": {}
      },
      "source": [
        "# 1.4\n",
        "columns = [\"on_\"+month for month in months]\n",
        "columns.append(\"neighbourhood\")\n",
        "neighbourhood_group = train[columns].groupby(\"neighbourhood\").sum().idxmax()\n",
        "neighbourhood_group.to_frame(\"neighbourhood\")"
      ],
      "execution_count": 0,
      "outputs": []
    },
    {
      "cell_type": "markdown",
      "metadata": {
        "id": "xVmugTpQsW1H",
        "colab_type": "text"
      },
      "source": [
        "##Ερώτημα 1.5"
      ]
    },
    {
      "cell_type": "code",
      "metadata": {
        "id": "GPNWu64ALQDU",
        "colab_type": "code",
        "colab": {}
      },
      "source": [
        "# 1.5\n",
        "columns = [\"on_\"+month for month in months]\n",
        "columns = [\"on_febrouary\", \"on_march\", \t\"on_april\"]\n",
        "columns.append(\"neighbourhood\")\n",
        "neighbourhood_group = train[columns].groupby(\"neighbourhood\").sum().sort_values(columns[1])\n",
        "\n",
        "# ploting\n",
        "colors = color_palet(np.linspace(0, 1, len(neighbourhood_group.columns)))\n",
        "neighbourhood_group.plot(kind='bar', stacked=True, figsize=(15, 10), color=colors)\n",
        "plt.ylabel(\"# of airbnbs\")"
      ],
      "execution_count": 0,
      "outputs": []
    },
    {
      "cell_type": "markdown",
      "metadata": {
        "id": "9pxYvSGBsTfn",
        "colab_type": "text"
      },
      "source": [
        "##Ερώτημα 1.6"
      ]
    },
    {
      "cell_type": "code",
      "metadata": {
        "id": "88hPDwAapPcX",
        "colab_type": "code",
        "colab": {}
      },
      "source": [
        "# 1.6\n",
        "neighbourhood_group = train[\"neighbourhood\"].value_counts(ascending=True)\n",
        "\n",
        "# ploting\n",
        "colors = color_palet(np.linspace(0.5, 1, 1))\n",
        "neighbourhood_group.plot(kind='hist', stacked=True, figsize=(15, 10), color=colors, bins=50)\n",
        "plt.xlabel(\"# of airbnbs\")"
      ],
      "execution_count": 0,
      "outputs": []
    },
    {
      "cell_type": "markdown",
      "metadata": {
        "id": "CH4N22risRb6",
        "colab_type": "text"
      },
      "source": [
        "##Ερώτημα 1.7"
      ]
    },
    {
      "cell_type": "code",
      "metadata": {
        "id": "geQiu4SVJZRV",
        "colab_type": "code",
        "colab": {}
      },
      "source": [
        "# 1.7\n",
        "neighbourhood_group = train[[\"room_type\", \"neighbourhood\"]].groupby(\"neighbourhood\").apply(lambda x: x[\"room_type\"].value_counts(ascending=False).index[0])\n",
        "neighbourhood_group.to_frame(\"room_type\")"
      ],
      "execution_count": 0,
      "outputs": []
    },
    {
      "cell_type": "markdown",
      "metadata": {
        "id": "Z69uOv0EsORP",
        "colab_type": "text"
      },
      "source": [
        "##Ερώτημα 1.8"
      ]
    },
    {
      "cell_type": "code",
      "metadata": {
        "id": "iGL9iZFomvRV",
        "colab_type": "code",
        "colab": {}
      },
      "source": [
        "# 1.8\n",
        "neighbourhood_group = train[[\"average_price\", \"room_type\"]].groupby(\"room_type\").mean()\n",
        "neighbourhood_group.loc[neighbourhood_group.idxmax()]\n",
        "# neighbourhood_group"
      ],
      "execution_count": 0,
      "outputs": []
    },
    {
      "cell_type": "markdown",
      "metadata": {
        "id": "tNLjz5qqsF4u",
        "colab_type": "text"
      },
      "source": [
        "##Ερώτημα 1.9"
      ]
    },
    {
      "cell_type": "markdown",
      "metadata": {
        "id": "WEPkCXhVwVVd",
        "colab_type": "text"
      },
      "source": [
        "Στο ερώτημα αυτό προσπαθήσαμε να προβάλουμε στον χάρτη και τα 10000 περίπου airbnb αλλά ο υπολογιστής δεν τα εμφάνισε ποτέ (ούτε ακόμα και στο google colab) οπότε προβάλουμε μόνο 1000 ενδεικτικά airbnb καθώς και παρακάτω ένα heat map με όλες τις συντεταγμένες καταχωρημένες"
      ]
    },
    {
      "cell_type": "code",
      "metadata": {
        "id": "6fJr9HXgRffA",
        "colab_type": "code",
        "colab": {}
      },
      "source": [
        "# 1.9\n",
        "import folium\n",
        "from folium import plugins\n",
        "from branca.element import Figure\n",
        "\n",
        "fig = Figure(width=1300, height=800)\n",
        "map = folium.Map(location=[37.991811, 23.733400],zoom_start=13, width=1300, height=800, control_scale=True)\n",
        "fig.add_child(map)\n",
        "\n",
        "for index,row in train.iterrows():\n",
        "    folium.Marker(location=[row.loc[\"latitude\"], row.loc[\"longitude\"]], \n",
        "                  popup=row.loc[\"room_type\"]+\" \"+str(row.loc[\"accommodates\"])+\" \"+str(int(row.loc[\"average_price\"]))+\" $\",\n",
        "                  tooltip=row.loc[\"name\"],\n",
        "                  icon=folium.Icon(icon=\"home\", prefix=\"fa\")).add_to(map)\n",
        "\n",
        "    # folium.Marker(location=[row.loc[\"latitude\"], row.loc[\"longitude\"]]).add_to(map)\n",
        "    if(index>1000):\n",
        "      break;\n",
        "map"
      ],
      "execution_count": 0,
      "outputs": []
    },
    {
      "cell_type": "markdown",
      "metadata": {
        "id": "kbIKq6hVtsJO",
        "colab_type": "text"
      },
      "source": [
        "Επιπλέον το heat map για τα airbnb στην Αθήνα"
      ]
    },
    {
      "cell_type": "code",
      "metadata": {
        "id": "E1zEvjKLt6gD",
        "colab_type": "code",
        "colab": {}
      },
      "source": [
        "\n",
        "matrix_coordinates = train[['latitude', 'longitude']].values\n",
        "heat_fig = Figure(width=1300, height=800)\n",
        "heat_map = folium.Map(location=[37.991811, 23.733400],zoom_start=13, width=1300, height=800, control_scale=True)\n",
        "heat_fig.add_child(heat_map)\n",
        "\n",
        "heat_map.add_children(plugins.HeatMap(matrix_coordinates, radius=14))\n",
        "heat_map"
      ],
      "execution_count": 0,
      "outputs": []
    },
    {
      "cell_type": "markdown",
      "metadata": {
        "id": "vc73v1i4rnQd",
        "colab_type": "text"
      },
      "source": [
        "##Ερώτημα 1.10\n",
        "Word cloud για το neighbourhood"
      ]
    },
    {
      "cell_type": "code",
      "metadata": {
        "id": "5djUNmDRYWSp",
        "colab_type": "code",
        "colab": {}
      },
      "source": [
        "# 1.10\n",
        "from wordcloud import WordCloud, STOPWORDS\n",
        "wcloud = WordCloud(stopwords= set(STOPWORDS), width=840, height=480)\n",
        "\n",
        "neighbourhood_words = train[\"neighbourhood\"].str.cat(sep=\" \")\n",
        "wcloud.generate(neighbourhood_words)\n",
        "wcloud.to_image()"
      ],
      "execution_count": 0,
      "outputs": []
    },
    {
      "cell_type": "markdown",
      "metadata": {
        "id": "HMkpjKe8rZJY",
        "colab_type": "text"
      },
      "source": [
        "Word coud για το transit"
      ]
    },
    {
      "cell_type": "code",
      "metadata": {
        "id": "NG_ADh6uspIH",
        "colab_type": "code",
        "colab": {}
      },
      "source": [
        "transit_words = train[\"transit\"].str.cat(sep=\" \")\n",
        "wcloud.generate(transit_words)\n",
        "wcloud.to_image()"
      ],
      "execution_count": 0,
      "outputs": []
    },
    {
      "cell_type": "markdown",
      "metadata": {
        "id": "stV_ToGCuG7e",
        "colab_type": "text"
      },
      "source": [
        "Word cloud για το description"
      ]
    },
    {
      "cell_type": "code",
      "metadata": {
        "id": "e3TpmZXQuPjw",
        "colab_type": "code",
        "colab": {}
      },
      "source": [
        "description_words = train[\"description\"].str.cat(sep=\" \")\n",
        "wcloud.generate(description_words)\n",
        "wcloud.to_image()"
      ],
      "execution_count": 0,
      "outputs": []
    },
    {
      "cell_type": "markdown",
      "metadata": {
        "id": "uqm_WNXlv-va",
        "colab_type": "text"
      },
      "source": [
        "Word cloud για το last review"
      ]
    },
    {
      "cell_type": "code",
      "metadata": {
        "id": "p39bl17Sv-K5",
        "colab_type": "code",
        "colab": {}
      },
      "source": [
        "# exctract reviews from review file all last reviews must be at the file of the last month\n",
        "reviews_path = data_path+\"/\"+months[-1]+\"/reviews.csv\"\n",
        "reviews = pd.read_csv(reviews_path)\n",
        "\n",
        "# merge reviews with last dates\n",
        "reviews = pd.merge(train[[\"id\", \"last_review\"]], reviews, left_on=[\"id\", \"last_review\"], right_on=[\"listing_id\", \"date\"])\n",
        "\n",
        "reviews_words = reviews[\"comments\"].str.cat(sep=\" \")\n",
        "wcloud.generate(reviews_words)\n",
        "wcloud.to_image()"
      ],
      "execution_count": 0,
      "outputs": []
    },
    {
      "cell_type": "markdown",
      "metadata": {
        "id": "2_D6yBd0wrEm",
        "colab_type": "text"
      },
      "source": [
        "##Ερώτημα 1.11 έξτρα για την μέση τιμή ανά γειτονιά"
      ]
    },
    {
      "cell_type": "markdown",
      "metadata": {
        "id": "-Prz5X_8E3vq",
        "colab_type": "text"
      },
      "source": [
        "Βρίσκουμε την μέση τιμή για κάθε ακίνητο και μετά την μέση τιμή για κάθε γειτονιά και τα προβάλουμε"
      ]
    },
    {
      "cell_type": "code",
      "metadata": {
        "id": "s538HSrwr0lu",
        "colab_type": "code",
        "colab": {}
      },
      "source": [
        "# 1.12 find the average price foe each neighbourhood\n",
        "train[\"relative_price\"] = train[\"average_price\"].div(train.accommodates)\n",
        "neighbourhood_group = train[[\"relative_price\", \"neighbourhood\"]].groupby(\"neighbourhood\").mean()\n",
        "\n",
        "# ploting\n",
        "colors = color_palet(np.linspace(0, 1, len(neighbourhood_group)))\n",
        "neighbourhood_group.relative_price.sort_values().plot(kind='bar', stacked=True, figsize=(15, 10), color=colors)\n",
        "plt.ylabel(\"Relative price\")"
      ],
      "execution_count": 0,
      "outputs": []
    },
    {
      "cell_type": "markdown",
      "metadata": {
        "id": "MenhHIPEXKgC",
        "colab_type": "text"
      },
      "source": [
        "Το αποτέλεσμα να είναι η Ριζούπολη η πιο ακριβή σχετικά περιοχή φαίνεται λίγο περίεργο...\n",
        "\n",
        "Aν πάρουμε τα δωμάτια που βρίσκονται στην Ριζούπολη τα ταξινομήσουμε και βρούμε αυτό με την μεγαλύτερη τιμή, \n",
        "θα δούμε ένα διαμέρισμα 32 τετραγωνικών που άνοιξε μόνο τον Μάρτιο και είχε τιμή 4030 ευρώ!?"
      ]
    },
    {
      "cell_type": "code",
      "metadata": {
        "id": "ywlKlsm6wmpO",
        "colab_type": "code",
        "colab": {}
      },
      "source": [
        "rizoupolh = train[train.neighbourhood == \"Rizoupoli\"].sort_values(by=\"relative_price\").tail(1)\n",
        "rizoupolh"
      ],
      "execution_count": 0,
      "outputs": []
    },
    {
      "cell_type": "markdown",
      "metadata": {
        "id": "EsA0raN4XFM7",
        "colab_type": "text"
      },
      "source": [
        "Προφανώς και αυτό θα είναι κάποιο λάθος καθώς δε θα ήθελε κανένας να χρεώσει 4030 για 32 τετραγωνικά.\n",
        "Επομένως αν διαγράψουμε αυτήν την εγγραφή θα μπορέσουμε να έχουμε πιο σωστά αποτελέσματα.\n",
        "Επιπλέον σε πολλές διαμερίσματα παρατηρούνται λάθη στις τιμές και πολλοί για παράδειγμα αντί να γράψουν 70 φράφουν 7000 ευρώ. Για αυτό το  λόγο καλό θα ήταν να κόψουμε τις τιμές πάνω από 500 ευρώ ανά άτομο καθώς δεν είναι λογικό κανένα σπίτι airbnb στην Αθήνα να έχει τέτοια τιμή."
      ]
    },
    {
      "cell_type": "code",
      "metadata": {
        "id": "c08BNspE2f_a",
        "colab_type": "code",
        "colab": {}
      },
      "source": [
        "train = train.drop(train[train.relative_price > 500].index)\n",
        "neighbourhood_group = train[[\"relative_price\", \"neighbourhood\"]].groupby(\"neighbourhood\").mean()\n",
        "\n",
        "# ploting\n",
        "colors = color_palet(np.linspace(0, 1, len(neighbourhood_group)))\n",
        "neighbourhood_group.relative_price.sort_values().plot(kind='bar', stacked=True, figsize=(15, 10), color=colors)\n",
        "plt.ylabel(\"Relative price\")"
      ],
      "execution_count": 0,
      "outputs": []
    },
    {
      "cell_type": "markdown",
      "metadata": {
        "id": "bgA7gcQJw_1R",
        "colab_type": "text"
      },
      "source": [
        "##Ερώτημα 1.12 Έυρεση του αριθμό των airbnb που υπάρχουν και της τιμής τους συναρτήση της απόστασης τους από την Ακρόπολη"
      ]
    },
    {
      "cell_type": "markdown",
      "metadata": {
        "id": "6Rna7_SmXC24",
        "colab_type": "text"
      },
      "source": [
        "Στο επόμενο ερώτημα θα υπολογίσουμε τον αριθμό των airbnb που υπάρχουν συναρτήση της απόστασης από κάποιο σημείο. Στην συγκεκριμένη περίπτωση θα χρησιμοποιήσουμε την απόσταση από την ακρόπολη.\n",
        "\n",
        "Ο υπολογισμός της πραγματικής απόστασης μεταξύ δύο συντεταγμένων σε σφαίρα γίνεται με τον τύπο Haversinus\n",
        "\n",
        "![alt text](https://wikimedia.org/api/rest_v1/media/math/render/svg/a65dbbde43ff45bacd2505fcf32b44fc7dcd8cc0)"
      ]
    },
    {
      "cell_type": "code",
      "metadata": {
        "id": "r2UT-D2_RUK3",
        "colab_type": "code",
        "colab": {}
      },
      "source": [
        "from math import cos, sin, asin, sqrt, radians, atan2\n",
        "\n",
        "earth_radius = 6373.0\n",
        "acripolis_coordinates = [37.971767, 23.726265]\n",
        "\n",
        "def dist(lat1,lon1, lat2,lon2):\n",
        "    dlat = radians(lat2) - radians(lat1)\n",
        "    dlon = radians(lon2) - radians(lon1)\n",
        "\n",
        "    hav = sin(dlat/2)**2 + cos(lat1)*cos(lat2) * (sin(dlon/2)**2)\n",
        "    arc = asin( sqrt(hav) )\n",
        "    dist = 2 * earth_radius * arc\n",
        "    return dist\n",
        "\n",
        "train[\"distance\"] = train[[\"longitude\", \"latitude\"]].apply(lambda x: dist(x[\"latitude\"], x[\"longitude\"], acripolis_coordinates[0], acripolis_coordinates[1]), axis=1)\n",
        "\n",
        "# quantization of distance in 30 classes of kilometers\n",
        "cut_distances = pd.cut(x=train[\"distance\"], bins=np.linspace(0,10,30))\n",
        "train[\"cut_distance\"] = cut_distances\n",
        "\n",
        "distances = cut_distances.value_counts()\n",
        "colors = color_palet(np.linspace(1, 0, 30))\n",
        "distances.sort_index().plot(kind='bar', stacked=True, figsize=(15, 10), color=colors)\n",
        "plt.ylabel(\"# of airbnbs\")"
      ],
      "execution_count": 0,
      "outputs": []
    },
    {
      "cell_type": "markdown",
      "metadata": {
        "id": "VxijVjCMmPyS",
        "colab_type": "text"
      },
      "source": [
        "Από το γράφημα παρατηρούμε, όπως και είναι λογικό, ο όγκος το διαμερισμάτων να υπάρχει κοντά στην Ακρόπολη, παρόλα αυτά αξιοσημείωτη είναι η μικρή πτώση ανάμεσα στην απόσταση από 1 μέχρι 1,3 χιλιόμετρα. Αυτή η πτώση των airbnb μπορεί να εξηγηθεί από την απόσταση της Ακρόπολης με τον Εθνικό κήπο, το Παναθηναϊκό Στάδιο και το Πρώτο Νεκροταφείο Αθηνών!\n",
        "\n",
        "Το συμπέρασμα μπορεί να φανεί το παρακάτω heat map με τους δυο κύκλους να περικλείουν το διάστημα μεταξύ 1 και 1.3 χιλιομέτρων."
      ]
    },
    {
      "cell_type": "code",
      "metadata": {
        "id": "t7xloThsnfnK",
        "colab_type": "code",
        "colab": {}
      },
      "source": [
        "# fig_c = Figure(width=840, height=480)\n",
        "# map = folium.Map(location=acripolis_coordinates,zoom_start=13, width=840, height=480, control_scale=True)\n",
        "# fig_c.add_child(heat_map)\n",
        "folium.Circle(acripolis_coordinates, radius=1000).add_to(heat_map)\n",
        "folium.Circle(acripolis_coordinates, radius=1300).add_to(heat_map)\n",
        "heat_map\n"
      ],
      "execution_count": 0,
      "outputs": []
    },
    {
      "cell_type": "markdown",
      "metadata": {
        "id": "V-XmzHUX0zNq",
        "colab_type": "text"
      },
      "source": [
        "Έυρεση και της μέσης τιμής τους συναρτήση της απόστασής τους από την Ακρόπολη"
      ]
    },
    {
      "cell_type": "code",
      "metadata": {
        "id": "6sKfEdo309b2",
        "colab_type": "code",
        "colab": {}
      },
      "source": [
        "distance_group = train[[\"cut_distance\", \"average_price\"]].groupby(\"cut_distance\").mean()\n",
        "distance_group\n",
        "\n",
        "# ploting\n",
        "colors = color_palet(np.linspace(1, 0, 30))\n",
        "distance_group.sort_index().plot(kind='bar', stacked=True, figsize=(15, 10), color=colors)\n",
        "plt.ylabel(\"Average price\")"
      ],
      "execution_count": 0,
      "outputs": []
    },
    {
      "cell_type": "markdown",
      "metadata": {
        "id": "Zy8mhghzxDJP",
        "colab_type": "text"
      },
      "source": [
        "##Ερώτημα 1.13 (δεν χρειάζεται να το κοιτάξετε, το κάναμε καθαρά από ενδιαφέρον) Εύρεση του πιο value for money airbnb "
      ]
    },
    {
      "cell_type": "markdown",
      "metadata": {
        "id": "UZB3rA_PxL8D",
        "colab_type": "text"
      },
      "source": [
        "Καθώς γνωρίζουμε πλέον την σχετική τιμή για κάθε σπιτιού ανά άτομο καθώς και την απόσταση κάθε σπιτιού από το μεγαλύτερο σημείο ενδιαφέροντος της Αθήνας, θα μπορούσαμε να υπολογίσουμε το πόσο σχετική καλή αξία έχει το κάθε airbnb.\n",
        "\n",
        "Για να το υπολιγίσουμε θα χρησιμοποιήσουμε ακόμα και τον συνολικό αριθμό κριτικών αλλά και τον αριθμό των διάφορων παροχών που προσφέρονται. Τα σκορ τον κριτικών θα μπορέσουμε να τα λάβουμε υπόψιν μας αλλά παρατηρήσαμε πως δεν είναι ακριβή και τα περισσότερα είναι είτε 100 είτε Νan.\n",
        "\n",
        "Ένας απλός τύπος για αυτό τον υπολογισμό θα μπορούσε να είναι ο εξής:\n",
        "\n",
        "\n",
        "{Αριθμός κριτικών * Σύνολο παροχών} / {Απόσταση από Ακρόπολη * Τιμή ανά άτομο} \n",
        "\n",
        "Το μόνο που αρκεί είναι να το βρούμε για κάθε airbnb και να το ταξινομήσουμε."
      ]
    },
    {
      "cell_type": "code",
      "metadata": {
        "id": "9yvcw69N0rti",
        "colab_type": "code",
        "colab": {}
      },
      "source": [
        "len(train.amenities[1000].split(\",\"))\n",
        "train[\"value\"] = train[[\"amenities\", \"number_of_reviews\", \"distance\", \"relative_price\"]].apply(lambda x: (len(x.amenities.split(\",\")) * x.number_of_reviews) / \n",
        "                                                                                                      (x.distance  *  x.relative_price ) if x.distance*x.relative_price != 0 else 0,axis=1)\n",
        "train.sort_values(by=\"value\", ascending=False).head(10)\n"
      ],
      "execution_count": 0,
      "outputs": []
    },
    {
      "cell_type": "markdown",
      "metadata": {
        "id": "WicK2n4rxPjS",
        "colab_type": "text"
      },
      "source": [
        "#Ερώτημα 2"
      ]
    },
    {
      "cell_type": "markdown",
      "metadata": {
        "id": "YE9Nlwkb0eSP",
        "colab_type": "text"
      },
      "source": [
        "##Ερώτημα 2.1 δημιουργία του TF-IDF"
      ]
    },
    {
      "cell_type": "markdown",
      "metadata": {
        "id": "2XT5UZP9BMxS",
        "colab_type": "text"
      },
      "source": [
        "Έυρεση ελληνικών stopwords τα οποία τα έχουμε πάρει από αυτό το site\n",
        "https://www.translatum.gr/forum/index.php?topic=3550.0\n",
        "\n",
        "Έπειτα αφαιρούμε τους τόνους από τις λέξεις του κειμένου των περιγραφών για να είναι συμβατές οι λέξεις με τα stopwords"
      ]
    },
    {
      "cell_type": "code",
      "metadata": {
        "id": "khWC9CYkB-SO",
        "colab_type": "code",
        "colab": {}
      },
      "source": [
        "# stop words download\n",
        "# import nltk\n",
        "# nltk.download(\"popular\")\n",
        "from nltk.corpus import stopwords\n",
        "\n",
        "greek_stop_words = \"\"\" Α∆ΙΑΚΟΠΑ, ΑΙ, ΑΚΟΜΑ, ΑΚΟΜΗ, ΑΚΡΙΒΩΣ, ΑΛΗΘΕΙΑ, ΑΛΗΘΙΝΑ, ΑΛΛΑ, ΑΛΛΑΧΟΥ, ΑΛΛΕΣ, ΑΛΛΗ, ΑΛΛΗΝ, ΑΛΛΗΣ, ΑΛΛΙΩΣ, ΑΛΛΙΩΤΙΚΑ, ΑΛΛΟ, ΑΛΛΟΙ, ΑΛΛΟΙΩΣ, ΑΛΛΟΙΩΤΙΚΑ, ΑΛΛΟΝ, ΑΛΛΟΣ, ΑΛΛΟΤΕ, ΑΛΛΟΥ, ΑΛΛΟΥΣ, ΑΛΛΩΝ, ΑΜΑ, ΑΜΕΣΑ, ΑΜΕΣΩΣ, ΑΝ, ΑΝΑ, ΑΝΑΜΕΣΑ, ΑΝΑΜΕΤΑΞΥ, ΑΝΕΥ, ΑΝΤΙ, ΑΝΤΙΠΕΡΑ, ΑΝΤΙΣ, ΑΝΩ, ΑΝΩΤΕΡΩ, ΑΞΑΦΝΑ, ΑΠ, ΑΠΕΝΑΝΤΙ, ΑΠΟ, ΑΠΟΨΕ, ΑΡΑ, ΑΡΑΓΕ, ΑΡΓΑ, ΑΡΓΟΤΕΡΟ, ΑΡΙΣΤΕΡΑ, ΑΡΚΕΤΑ, ΑΡΧΙΚΑ, ΑΣ, ΑΥΡΙΟ, ΑΥΤΑ, ΑΥΤΕΣ, ΑΥΤΗ, ΑΥΤΗΝ, ΑΥΤΗΣ, ΑΥΤΟ, ΑΥΤΟΙ, ΑΥΤΟΝ, ΑΥΤΟΣ, ΑΥΤΟΥ, ΑΥΤΟΥΣ, ΑΥΤΩΝ, ΑΦΟΤΟΥ, ΑΦΟΥ, ΒΕΒΑΙΑ, ΒΕΒΑΙΟΤΑΤΑ, ΓΙ, ΓΙΑ, ΓΡΗΓΟΡΑ, ΓΥΡΩ, ∆Α, ∆Ε, ∆ΕΙΝΑ, ∆ΕΝ, ∆ΕΞΙΑ, ∆ΗΘΕΝ, ∆ΗΛΑ∆Η, ∆Ι, ∆ΙΑ, ∆ΙΑΡΚΩΣ, ∆ΙΚΑ, ∆ΙΚΟ, ∆ΙΚΟΙ, ∆ΙΚΟΣ, ∆ΙΚΟΥ, ∆ΙΚΟΥΣ, ∆ΙΟΛΟΥ, ∆ΙΠΛΑ, ∆ΙΧΩΣ, ΕΑΝ, ΕΑΥΤΟ, ΕΑΥΤΟΝ, ΕΑΥΤΟΥ, ΕΑΥΤΟΥΣ, ΕΑΥΤΩΝ, ΕΓΚΑΙΡΑ, ΕΓΚΑΙΡΩΣ, ΕΓΩ, Ε∆Ω, ΕΙ∆ΕΜΗ, ΕΙΘΕ, ΕΙΜΑΙ, ΕΙΜΑΣΤΕ, ΕΙΝΑΙ, ΕΙΣ, ΕΙΣΑΙ, ΕΙΣΑΣΤΕ, ΕΙΣΤΕ, ΕΙΤΕ, ΕΙΧΑ, ΕΙΧΑΜΕ, ΕΙΧΑΝ, ΕΙΧΑΤΕ, ΕΙΧΕ, ΕΙΧΕΣ, ΕΚΑΣΤΑ, ΕΚΑΣΤΕΣ, ΕΚΑΣΤΗ, ΕΚΑΣΤΗΝ, ΕΚΑΣΤΗΣ, ΕΚΑΣΤΟ, ΕΚΑΣΤΟΙ, ΕΚΑΣΤΟΝ, ΕΚΑΣΤΟΣ, ΕΚΑΣΤΟΥ, ΕΚΑΣΤΟΥΣ, ΕΚΑΣΤΩΝ, ΕΚΕΙ, ΕΚΕΙΝΑ, ΕΚΕΙΝΕΣ, ΕΚΕΙΝΗ, ΕΚΕΙΝΗΝ, ΕΚΕΙΝΗΣ, ΕΚΕΙΝΟ, ΕΚΕΙΝΟΙ, ΕΚΕΙΝΟΝ, ΕΚΕΙΝΟΣ, ΕΚΕΙΝΟΥ, ΕΚΕΙΝΟΥΣ, ΕΚΕΙΝΩΝ, ΕΚΤΟΣ, ΕΜΑΣ, ΕΜΕΙΣ, ΕΜΕΝΑ, ΕΜΠΡΟΣ, ΕΝ, ΕΝΑ, ΕΝΑΝ, ΕΝΑΣ, ΕΝΟΣ, ΕΝΤΕΛΩΣ, ΕΝΤΟΣ, ΕΝΤΩΜΕΤΑΞΥ, ΕΝΩ, ΕΞ, ΕΞΑΦΝΑ, ΕΞΗΣ, ΕΞΙΣΟΥ, ΕΞΩ, ΕΠΑΝΩ, ΕΠΕΙ∆Η, ΕΠΕΙΤΑ, ΕΠΙ, ΕΠΙΣΗΣ, ΕΠΟΜΕΝΩΣ, ΕΣΑΣ, ΕΣΕΙΣ, ΕΣΕΝΑ, ΕΣΤΩ, ΕΣΥ, ΕΤΕΡΑ, ΕΤΕΡΑΙ, ΕΤΕΡΑΣ, ΕΤΕΡΕΣ, ΕΤΕΡΗ, ΕΤΕΡΗΣ, ΕΤΕΡΟ, ΕΤΕΡΟΙ, ΕΤΕΡΟΝ, ΕΤΕΡΟΣ, ΕΤΕΡΟΥ, ΕΤΕΡΟΥΣ, ΕΤΕΡΩΝ, ΕΤΟΥΤΑ, ΕΤΟΥΤΕΣ, ΕΤΟΥΤΗ, ΕΤΟΥΤΗΝ, ΕΤΟΥΤΗΣ, ΕΤΟΥΤΟ, ΕΤΟΥΤΟΙ, ΕΤΟΥΤΟΝ, ΕΤΟΥΤΟΣ, ΕΤΟΥΤΟΥ, ΕΤΟΥΤΟΥΣ, ΕΤΟΥΤΩΝ, ΕΤΣΙ, ΕΥΓΕ, ΕΥΘΥΣ, ΕΥΤΥΧΩΣ, ΕΦΕΞΗΣ, ΕΧΕΙ, ΕΧΕΙΣ, ΕΧΕΤΕ, ΕΧΘΕΣ, ΕΧΟΜΕ, ΕΧΟΥΜΕ, ΕΧΟΥΝ, ΕΧΤΕΣ, ΕΧΩ, ΕΩΣ, Η, Η∆Η, ΗΜΑΣΤΑΝ, ΗΜΑΣΤΕ, ΗΜΟΥΝ, ΗΣΑΣΤΑΝ, ΗΣΑΣΤΕ, ΗΣΟΥΝ, ΗΤΑΝ, ΗΤΑΝΕ, ΗΤΟΙ, ΗΤΤΟΝ, ΘΑ, Ι, Ι∆ΙΑ, Ι∆ΙΑΝ, Ι∆ΙΑΣ, Ι∆ΙΕΣ, Ι∆ΙΟ, Ι∆ΙΟΙ, Ι∆ΙΟΝ, Ι∆ΙΟΣ, Ι∆ΙΟΥ, Ι∆ΙΟΥΣ, Ι∆ΙΩΝ, Ι∆ΙΩΣ, ΙΙ, ΙΙΙ, ΙΣΑΜΕ, ΙΣΙΑ, ΙΣΩΣ, ΚΑΘΕ, ΚΑΘΕΜΙΑ, ΚΑΘΕΜΙΑΣ, ΚΑΘΕΝΑ, ΚΑΘΕΝΑΣ, ΚΑΘΕΝΟΣ, ΚΑΘΕΤΙ, ΚΑΘΟΛΟΥ, ΚΑΘΩΣ, ΚΑΙ, ΚΑΚΑ, ΚΑΚΩΣ, ΚΑΛΑ, ΚΑΛΩΣ, ΚΑΜΙΑ, ΚΑΜΙΑΝ, ΚΑΜΙΑΣ, ΚΑΜΠΟΣΑ, ΚΑΜΠΟΣΕΣ, ΚΑΜΠΟΣΗ, ΚΑΜΠΟΣΗΝ, ΚΑΜΠΟΣΗΣ, ΚΑΜΠΟΣΟ, ΚΑΜΠΟΣΟΙ, ΚΑΜΠΟΣΟΝ, ΚΑΜΠΟΣΟΣ, ΚΑΜΠΟΣΟΥ, ΚΑΜΠΟΣΟΥΣ, ΚΑΜΠΟΣΩΝ, ΚΑΝΕΙΣ, ΚΑΝΕΝ, ΚΑΝΕΝΑ, ΚΑΝΕΝΑΝ, ΚΑΝΕΝΑΣ, ΚΑΝΕΝΟΣ, ΚΑΠΟΙΑ, ΚΑΠΟΙΑΝ, ΚΑΠΟΙΑΣ, ΚΑΠΟΙΕΣ, ΚΑΠΟΙΟ, ΚΑΠΟΙΟΙ, ΚΑΠΟΙΟΝ, ΚΑΠΟΙΟΣ, ΚΑΠΟΙΟΥ, ΚΑΠΟΙΟΥΣ, ΚΑΠΟΙΩΝ, ΚΑΠΟΤΕ, ΚΑΠΟΥ, ΚΑΠΩΣ, ΚΑΤ, ΚΑΤΑ, ΚΑΤΙ, ΚΑΤΙΤΙ, ΚΑΤΟΠΙΝ, ΚΑΤΩ, ΚΙΟΛΑΣ, ΚΛΠ, ΚΟΝΤΑ, ΚΤΛ, ΚΥΡΙΩΣ, ΛΙΓΑΚΙ, ΛΙΓΟ, ΛΙΓΩΤΕΡΟ, ΛΟΓΩ, ΛΟΙΠΑ, ΛΟΙΠΟΝ, ΜΑ, ΜΑΖΙ, ΜΑΚΑΡΙ, ΜΑΚΡΥΑ, ΜΑΛΙΣΤΑ, ΜΑΛΛΟΝ, ΜΑΣ, ΜΕ, ΜΕΘΑΥΡΙΟ, ΜΕΙΟΝ, ΜΕΛΕΙ, ΜΕΛΛΕΤΑΙ, ΜΕΜΙΑΣ, ΜΕΝ, ΜΕΡΙΚΑ, ΜΕΡΙΚΕΣ, ΜΕΡΙΚΟΙ, ΜΕΡΙΚΟΥΣ, ΜΕΡΙΚΩΝ, ΜΕΣΑ, ΜΕΤ, ΜΕΤΑ, ΜΕΤΑΞΥ, ΜΕΧΡΙ, ΜΗ, ΜΗ∆Ε, ΜΗΝ, ΜΗΠΩΣ, ΜΗΤΕ, ΜΙΑ, ΜΙΑΝ, ΜΙΑΣ, ΜΟΛΙΣ, ΜΟΛΟΝΟΤΙ, ΜΟΝΑΧΑ, ΜΟΝΕΣ, ΜΟΝΗ, ΜΟΝΗΝ, ΜΟΝΗΣ, ΜΟΝΟ, ΜΟΝΟΙ, ΜΟΝΟΜΙΑΣ, ΜΟΝΟΣ, ΜΟΝΟΥ, ΜΟΝΟΥΣ, ΜΟΝΩΝ, ΜΟΥ, ΜΠΟΡΕΙ, ΜΠΟΡΟΥΝ, ΜΠΡΑΒΟ, ΜΠΡΟΣ, ΝΑ, ΝΑΙ, ΝΩΡΙΣ, ΞΑΝΑ, ΞΑΦΝΙΚΑ, Ο, ΟΙ, ΟΛΑ, ΟΛΕΣ, ΟΛΗ, ΟΛΗΝ, ΟΛΗΣ, ΟΛΟ, ΟΛΟΓΥΡΑ, ΟΛΟΙ, ΟΛΟΝ, ΟΛΟΝΕΝ, ΟΛΟΣ, ΟΛΟΤΕΛΑ, ΟΛΟΥ, ΟΛΟΥΣ, ΟΛΩΝ, ΟΛΩΣ, ΟΛΩΣ∆ΙΟΛΟΥ, ΟΜΩΣ, ΟΠΟΙΑ, ΟΠΟΙΑ∆ΗΠΟΤΕ, ΟΠΟΙΑΝ, ΟΠΟΙΑΝ∆ΗΠΟΤΕ, ΟΠΟΙΑΣ, ΟΠΟΙΑΣ∆ΗΠΟΤΕ, ΟΠΟΙ∆ΗΠΟΤΕ, ΟΠΟΙΕΣ, ΟΠΟΙΕΣ∆ΗΠΟΤΕ, ΟΠΟΙΟ, ΟΠΟΙΟ∆ΗΠΟΤΕ, ΟΠΟΙΟΙ, ΟΠΟΙΟΝ, ΟΠΟΙΟΝ∆ΗΠΟΤΕ, ΟΠΟΙΟΣ, ΟΠΟΙΟΣ∆ΗΠΟΤΕ, ΟΠΟΙΟΥ, ΟΠΟΙΟΥ∆ΗΠΟΤΕ, ΟΠΟΙΟΥΣ, ΟΠΟΙΟΥΣ∆ΗΠΟΤΕ, ΟΠΟΙΩΝ, ΟΠΟΙΩΝ∆ΗΠΟΤΕ, ΟΠΟΤΕ, ΟΠΟΤΕ∆ΗΠΟΤΕ, ΟΠΟΥ, ΟΠΟΥ∆ΗΠΟΤΕ, ΟΠΩΣ, ΟΡΙΣΜΕΝΑ, ΟΡΙΣΜΕΝΕΣ, ΟΡΙΣΜΕΝΩΝ, ΟΡΙΣΜΕΝΩΣ, ΟΣΑ, ΟΣΑ∆ΗΠΟΤΕ, ΟΣΕΣ, ΟΣΕΣ∆ΗΠΟΤΕ, ΟΣΗ, ΟΣΗ∆ΗΠΟΤΕ, ΟΣΗΝ, ΟΣΗΝ∆ΗΠΟΤΕ, ΟΣΗΣ, ΟΣΗΣ∆ΗΠΟΤΕ, ΟΣΟ, ΟΣΟ∆ΗΠΟΤΕ, ΟΣΟΙ, ΟΣΟΙ∆ΗΠΟΤΕ, ΟΣΟΝ, ΟΣΟΝ∆ΗΠΟΤΕ, ΟΣΟΣ, ΟΣΟΣ∆ΗΠΟΤΕ, ΟΣΟΥ, ΟΣΟΥ∆ΗΠΟΤΕ, ΟΣΟΥΣ, ΟΣΟΥΣ∆ΗΠΟΤΕ, ΟΣΩΝ, ΟΣΩΝ∆ΗΠΟΤΕ, ΟΤΑΝ, ΟΤΙ, ΟΤΙ∆ΗΠΟΤΕ, ΟΤΟΥ, ΟΥ, ΟΥ∆Ε, ΟΥΤΕ, ΟΧΙ, ΠΑΛΙ, ΠΑΝΤΟΤΕ, ΠΑΝΤΟΥ, ΠΑΝΤΩΣ, ΠΑΡΑ, ΠΕΡΑ, ΠΕΡΙ, ΠΕΡΙΠΟΥ, ΠΕΡΙΣΣΟΤΕΡΟ, ΠΕΡΣΙ, ΠΕΡΥΣΙ, ΠΙΑ, ΠΙΘΑΝΟΝ, ΠΙΟ, ΠΙΣΩ, ΠΛΑΙ, ΠΛΕΟΝ, ΠΛΗΝ, ΠΟΙΑ, ΠΟΙΑΝ, ΠΟΙΑΣ, ΠΟΙΕΣ, ΠΟΙΟ, ΠΟΙΟΙ, ΠΟΙΟΝ, ΠΟΙΟΣ, ΠΟΙΟΥ, ΠΟΙΟΥΣ, ΠΟΙΩΝ, ΠΟΛΥ, ΠΟΣΕΣ, ΠΟΣΗ, ΠΟΣΗΝ, ΠΟΣΗΣ, ΠΟΣΟΙ, ΠΟΣΟΣ, ΠΟΣΟΥΣ, ΠΟΤΕ, ΠΟΥ, ΠΟΥΘΕ, ΠΟΥΘΕΝΑ, ΠΡΕΠΕΙ, ΠΡΙΝ, ΠΡΟ, ΠΡΟΚΕΙΜΕΝΟΥ, ΠΡΟΚΕΙΤΑΙ, ΠΡΟΠΕΡΣΙ, ΠΡΟΣ, ΠΡΟΤΟΥ, ΠΡΟΧΘΕΣ, ΠΡΟΧΤΕΣ, ΠΡΩΤΥΤΕΡΑ, ΠΩΣ, ΣΑΝ, ΣΑΣ, ΣΕ, ΣΕΙΣ, ΣΗΜΕΡΑ, ΣΙΓΑ, ΣΟΥ, ΣΤΑ, ΣΤΗ, ΣΤΗΝ, ΣΤΗΣ, ΣΤΙΣ, ΣΤΟ, ΣΤΟΝ, ΣΤΟΥ, ΣΤΟΥΣ, ΣΤΩΝ, ΣΥΓΧΡΟΝΩΣ, ΣΥΝ, ΣΥΝΑΜΑ, ΣΥΝΕΠΩΣ, ΣΥΝΗΘΩΣ, ΣΥΧΝΑ, ΣΥΧΝΑΣ, ΣΥΧΝΕΣ, ΣΥΧΝΗ, ΣΥΧΝΗΝ, ΣΥΧΝΗΣ, ΣΥΧΝΟ, ΣΥΧΝΟΙ, ΣΥΧΝΟΝ, ΣΥΧΝΟΣ, ΣΥΧΝΟΥ, ΣΥΧΝΟΥ, ΣΥΧΝΟΥΣ, ΣΥΧΝΩΝ, ΣΥΧΝΩΣ, ΣΧΕ∆ΟΝ, ΣΩΣΤΑ, ΤΑ, ΤΑ∆Ε, ΤΑΥΤΑ, ΤΑΥΤΕΣ, ΤΑΥΤΗ, ΤΑΥΤΗΝ, ΤΑΥΤΗΣ, ΤΑΥΤΟ,ΤΑΥΤΟΝ, ΤΑΥΤΟΣ, ΤΑΥΤΟΥ, ΤΑΥΤΩΝ, ΤΑΧΑ, ΤΑΧΑΤΕ, ΤΕΛΙΚΑ, ΤΕΛΙΚΩΣ, ΤΕΣ, ΤΕΤΟΙΑ, ΤΕΤΟΙΑΝ, ΤΕΤΟΙΑΣ, ΤΕΤΟΙΕΣ, ΤΕΤΟΙΟ, ΤΕΤΟΙΟΙ, ΤΕΤΟΙΟΝ, ΤΕΤΟΙΟΣ, ΤΕΤΟΙΟΥ, ΤΕΤΟΙΟΥΣ, ΤΕΤΟΙΩΝ, ΤΗ, ΤΗΝ, ΤΗΣ, ΤΙ, ΤΙΠΟΤΑ, ΤΙΠΟΤΕ, ΤΙΣ, ΤΟ, ΤΟΙ, ΤΟΝ, ΤΟΣ, ΤΟΣΑ, ΤΟΣΕΣ, ΤΟΣΗ, ΤΟΣΗΝ, ΤΟΣΗΣ, ΤΟΣΟ, ΤΟΣΟΙ, ΤΟΣΟΝ, ΤΟΣΟΣ, ΤΟΣΟΥ, ΤΟΣΟΥΣ, ΤΟΣΩΝ, ΤΟΤΕ, ΤΟΥ, ΤΟΥΛΑΧΙΣΤΟ, ΤΟΥΛΑΧΙΣΤΟΝ, ΤΟΥΣ, ΤΟΥΤΑ, ΤΟΥΤΕΣ, ΤΟΥΤΗ, ΤΟΥΤΗΝ, ΤΟΥΤΗΣ, ΤΟΥΤΟ, ΤΟΥΤΟΙ, ΤΟΥΤΟΙΣ, ΤΟΥΤΟΝ, ΤΟΥΤΟΣ, ΤΟΥΤΟΥ, ΤΟΥΤΟΥΣ, ΤΟΥΤΩΝ, ΤΥΧΟΝ, ΤΩΝ, ΤΩΡΑ, ΥΠ, ΥΠΕΡ, ΥΠΟ, ΥΠΟΨΗ, ΥΠΟΨΙΝ, ΥΣΤΕΡΑ, ΦΕΤΟΣ, ΧΑΜΗΛΑ, ΧΘΕΣ, ΧΤΕΣ, ΧΩΡΙΣ, ΧΩΡΙΣΤΑ, ΨΗΛΑ, Ω, ΩΡΑΙΑ, ΩΣ, ΩΣΑΝ, ΩΣΟΤΟΥ, ΩΣΠΟΥ, ΩΣΤΕ, ΩΣΤΟΣΟ, ΩΧ\"\"\"\n",
        "greek_stop_words = list(greek_stop_words.lower().split(', '))\n",
        "\n",
        "def refine_greek(x):\n",
        "    return x.upper().replace(\"Ά\",\"Α\").replace(\"Έ\",\"Ε\").replace(\"Ή\",\"Η\").replace(\"Ί\",\"Ι\").replace(\"Ό\",\"Ο\").replace(\"Ύ\",\"Υ\").replace(\"Ώ\",\"Ω\")\n",
        "\n",
        "# exctracting all the commends and make the new dataFrame\n",
        "train_rec = train[[\"id\", \"name\", \"description\"]].copy()\n",
        "\n",
        "# concate  description + name for the train set\n",
        "train_text = list(train_rec[\"description\"]+\" \"+train_rec[\"name\"])\n",
        "train_text = [refine_greek(word).lower() for word in train_text]\n",
        "\n",
        "# remove stop words from the list\n",
        "stop_words = stopwords.words(\"english\") + greek_stop_words\n",
        "stop_words = set(stop_words)\n",
        "\n",
        "for sentence in range(len(train_text)):\n",
        "    train_text[sentence] = ' '.join([word for word in train_text[sentence].split() if word not in stop_words])\n"
      ],
      "execution_count": 0,
      "outputs": []
    },
    {
      "cell_type": "code",
      "metadata": {
        "id": "lHMg9sFKxUWC",
        "colab_type": "code",
        "colab": {}
      },
      "source": [
        "from sklearn.feature_extraction.text import TfidfVectorizer\n",
        "\n",
        "vectorizer = TfidfVectorizer(max_df=1.0, min_df=1, max_features=15000, stop_words=stop_words, ngram_range=(1,2))\n",
        "\n",
        "# fit and transform the model\n",
        "tfidf = vectorizer.fit_transform(train_text)"
      ],
      "execution_count": 0,
      "outputs": []
    },
    {
      "cell_type": "markdown",
      "metadata": {
        "id": "Hd3OcNFxQhFH",
        "colab_type": "text"
      },
      "source": [
        "##Ερώτημα 2.2 Cosine similarity και αποθήκευση 100 πιο όμοιων"
      ]
    },
    {
      "cell_type": "markdown",
      "metadata": {
        "id": "dJvv2i24sFz4",
        "colab_type": "text"
      },
      "source": [
        "Έυρεση του cosine similarity"
      ]
    },
    {
      "cell_type": "code",
      "metadata": {
        "id": "XTzztKQ1QvGm",
        "colab_type": "code",
        "colab": {}
      },
      "source": [
        "from scipy.spatial.distance import cosine\n",
        "from sklearn.metrics.pairwise import cosine_similarity\n",
        "from scipy import sparse\n",
        "import time\n",
        "\n",
        "t1 = time.time()\n",
        "# tfidf = sparse.csr_matrix(tfidf)\n",
        "similarity = cosine_similarity(tfidf)\n",
        "\n",
        "# similarity = np.triu(similarity)\n",
        "np.fill_diagonal(similarity, 0)\n",
        "\n",
        "t2 = time.time()\n",
        "print(\"time: \",t2-t1)\n",
        "print(similarity)"
      ],
      "execution_count": 0,
      "outputs": []
    },
    {
      "cell_type": "markdown",
      "metadata": {
        "id": "eofhHpNWsK7G",
        "colab_type": "text"
      },
      "source": [
        "Έυρεση των 100 πιο κοντινών ζευγαριών "
      ]
    },
    {
      "cell_type": "code",
      "metadata": {
        "id": "M7aXKOwGUlqf",
        "colab_type": "code",
        "colab": {}
      },
      "source": [
        "shape = similarity.shape\n",
        "flat_indices = similarity.ravel().argsort()\n",
        "matrix_indeces = np.unravel_index(flat_indices[-100:], shape)\n",
        "matrix_indeces = list(zip(matrix_indeces[0],matrix_indeces[1]))\n",
        "\n",
        "print(\"100 of the most similar pairs\\n\")\n",
        "pair = 0\n",
        "similarity_dict = {}\n",
        "for index in matrix_indeces:\n",
        "    pair += 1\n",
        "    print(\"Pair \",pair)\n",
        "    print(\"**************************************************\")\n",
        "    print(\"id 1: \",train_rec.iloc[index[0]][\"id\"])\n",
        "    print(\"name 1: \"+train_rec.iloc[index[0]][\"name\"])\n",
        "    print(\"description 1: \"+train_rec.iloc[index[0]].description)\n",
        "    print(\"--------------\")\n",
        "    print(\"id 1: \",train_rec.iloc[index[1]][\"id\"])\n",
        "    print(\"name 1: \"+train_rec.iloc[index[1]][\"name\"])\n",
        "    print(\"description 1: \"+train_rec.iloc[index[1]].description)\n",
        "    print(\"**************************************************\")\n",
        "    print(\"\")\n",
        "    similarity_dict[train_rec.iloc[index[0]].id] = train_rec.iloc[index[1]].id\n",
        "\n",
        "print(\"similarity id dictionary\")\n",
        "similarity_dict"
      ],
      "execution_count": 0,
      "outputs": []
    },
    {
      "cell_type": "markdown",
      "metadata": {
        "id": "De_4aqSTL4Jh",
        "colab_type": "text"
      },
      "source": [
        "##Έρώτημα 2.3"
      ]
    },
    {
      "cell_type": "markdown",
      "metadata": {
        "id": "igwVYkasC6X4",
        "colab_type": "text"
      },
      "source": [
        "Δημιουργία της recommend()"
      ]
    },
    {
      "cell_type": "code",
      "metadata": {
        "id": "Yp3z0jOrgFp9",
        "colab_type": "code",
        "colab": {}
      },
      "source": [
        "def recommend(item_id, num=5):\n",
        "    # get index from id\n",
        "    index = train_rec[train_rec.id == item_id].index[0]\n",
        "    similarity_id = similarity[index,:]\n",
        "\n",
        "    # find the max similarities\n",
        "    similarity_id_max_indeces = np.argpartition(similarity_id, -num)[-num:]\n",
        "    similarity_id_index_score = [(index,similarity_id[index]) for index in similarity_id_max_indeces]\n",
        "\n",
        "    # sort index score tuples\n",
        "    similarity_id_index_score.sort(key = lambda x: x[1], reverse=True)\n",
        "\n",
        "    # print similar airbnb\n",
        "    print(\"Recommending 5 listings similar to \", train_rec.iloc[index][\"name\"])\n",
        "    print(\"---------------------------------------------------------\")\n",
        "    for recommendation in similarity_id_index_score:\n",
        "        print(\"Recommended: \",train_rec.iloc[recommendation[0]][\"name\"])\n",
        "        print(\"Description: \",train_rec.iloc[recommendation[0]][\"description\"])\n",
        "        print(\"(score: \", recommendation[1],\")\\n\")\n"
      ],
      "execution_count": 0,
      "outputs": []
    },
    {
      "cell_type": "markdown",
      "metadata": {
        "id": "wRVQNm2VEAaa",
        "colab_type": "text"
      },
      "source": [
        "Εφαρμογή της recommend\n"
      ]
    },
    {
      "cell_type": "code",
      "metadata": {
        "id": "6iV8_x7-EEgV",
        "colab_type": "code",
        "colab": {}
      },
      "source": [
        "recommend(10990,10)"
      ],
      "execution_count": 0,
      "outputs": []
    },
    {
      "cell_type": "markdown",
      "metadata": {
        "id": "ja-oHFdcL9cy",
        "colab_type": "text"
      },
      "source": [
        "##Έρώτημα 2.4"
      ]
    },
    {
      "cell_type": "markdown",
      "metadata": {
        "id": "JX41K_2srNjf",
        "colab_type": "text"
      },
      "source": [
        "Προσαρμογή του train_text για την BigramCollocationFinder\n"
      ]
    },
    {
      "cell_type": "code",
      "metadata": {
        "id": "xzJNc7fLrOvg",
        "colab_type": "code",
        "colab": {}
      },
      "source": [
        "# create word list for the bigram collocation finder from train_text\n",
        "word_list = []\n",
        "sentence_list = [word.split(\" \") for word in train_text]\n",
        "for sentence in sentence_list:\n",
        "    word_list.extend(sentence)"
      ],
      "execution_count": 0,
      "outputs": []
    },
    {
      "cell_type": "markdown",
      "metadata": {
        "id": "BIRkQjLcEQOH",
        "colab_type": "text"
      },
      "source": [
        "Έυρεση των 10 λέξεων που “τείνουν” να εμφανίζονται συχνά μαζί."
      ]
    },
    {
      "cell_type": "code",
      "metadata": {
        "id": "c0wnwzqgL_Zs",
        "colab_type": "code",
        "colab": {}
      },
      "source": [
        "import nltk\n",
        "from nltk.collocations import *\n",
        "\n",
        "bigram_finder = BigramCollocationFinder.from_words(word_list)\n",
        "top_n_bigrams = finder.nbest(bigram_measures.likelihood_ratio, 10)\n",
        "\n",
        "top_n_bigrams"
      ],
      "execution_count": 0,
      "outputs": []
    }
  ]
}